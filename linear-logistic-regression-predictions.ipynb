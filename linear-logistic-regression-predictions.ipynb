{
 "cells": [
  {
   "cell_type": "code",
   "execution_count": 1,
   "id": "89b915f6",
   "metadata": {
    "_cell_guid": "b1076dfc-b9ad-4769-8c92-a6c4dae69d19",
    "_uuid": "8f2839f25d086af736a60e9eeb907d3b93b6e0e5",
    "execution": {
     "iopub.execute_input": "2024-03-29T11:42:21.586320Z",
     "iopub.status.busy": "2024-03-29T11:42:21.585490Z",
     "iopub.status.idle": "2024-03-29T11:42:22.477349Z",
     "shell.execute_reply": "2024-03-29T11:42:22.476219Z"
    },
    "papermill": {
     "duration": 0.902852,
     "end_time": "2024-03-29T11:42:22.479745",
     "exception": false,
     "start_time": "2024-03-29T11:42:21.576893",
     "status": "completed"
    },
    "tags": []
   },
   "outputs": [
    {
     "name": "stdout",
     "output_type": "stream",
     "text": [
      "/kaggle/input/insurance-dataset-simple-linear-regression/simplelinearregression.csv\n"
     ]
    }
   ],
   "source": [
    "# This Python 3 environment comes with many helpful analytics libraries installed\n",
    "# It is defined by the kaggle/python Docker image: https://github.com/kaggle/docker-python\n",
    "# For example, here's several helpful packages to load\n",
    "\n",
    "import numpy as np # linear algebra\n",
    "import pandas as pd # data processing, CSV file I/O (e.g. pd.read_csv)\n",
    "\n",
    "# Input data files are available in the read-only \"../input/\" directory\n",
    "# For example, running this (by clicking run or pressing Shift+Enter) will list all files under the input directory\n",
    "\n",
    "import os\n",
    "for dirname, _, filenames in os.walk('/kaggle/input'):\n",
    "    for filename in filenames:\n",
    "        print(os.path.join(dirname, filename))\n",
    "\n",
    "# You can write up to 20GB to the current directory (/kaggle/working/) that gets preserved as output when you create a version using \"Save & Run All\" \n",
    "# You can also write temporary files to /kaggle/temp/, but they won't be saved outside of the current session"
   ]
  },
  {
   "cell_type": "markdown",
   "id": "40b92e7c",
   "metadata": {
    "papermill": {
     "duration": 0.005683,
     "end_time": "2024-03-29T11:42:22.492257",
     "exception": false,
     "start_time": "2024-03-29T11:42:22.486574",
     "status": "completed"
    },
    "tags": []
   },
   "source": [
    "# Import Libraries "
   ]
  },
  {
   "cell_type": "code",
   "execution_count": 2,
   "id": "f3b742fa",
   "metadata": {
    "execution": {
     "iopub.execute_input": "2024-03-29T11:42:22.505772Z",
     "iopub.status.busy": "2024-03-29T11:42:22.505256Z",
     "iopub.status.idle": "2024-03-29T11:42:24.021564Z",
     "shell.execute_reply": "2024-03-29T11:42:24.020453Z"
    },
    "papermill": {
     "duration": 1.525958,
     "end_time": "2024-03-29T11:42:24.024116",
     "exception": false,
     "start_time": "2024-03-29T11:42:22.498158",
     "status": "completed"
    },
    "tags": []
   },
   "outputs": [],
   "source": [
    "import numpy as np\n",
    "import pandas as pd\n",
    "import matplotlib.pyplot as plt\n",
    "%matplotlib inline\n",
    "import sklearn\n",
    "import scipy.stats as stats\n",
    "import seaborn as sns\n",
    "import warnings\n",
    "warnings.filterwarnings('ignore')\n",
    "plt.rcParams[\"figure.figsize\"] = [10,5]\n",
    "# Ignore warnings\n",
    "\n",
    "import warnings\n",
    "# Set the warning filter to ignore FutureWarning\n",
    "warnings.simplefilter(action = \"ignore\", category = FutureWarning)\n"
   ]
  },
  {
   "cell_type": "markdown",
   "id": "89a241ea",
   "metadata": {
    "papermill": {
     "duration": 0.005577,
     "end_time": "2024-03-29T11:42:24.035764",
     "exception": false,
     "start_time": "2024-03-29T11:42:24.030187",
     "status": "completed"
    },
    "tags": []
   },
   "source": [
    "# Load Dataset "
   ]
  },
  {
   "cell_type": "code",
   "execution_count": 3,
   "id": "a69797c6",
   "metadata": {
    "execution": {
     "iopub.execute_input": "2024-03-29T11:42:24.049079Z",
     "iopub.status.busy": "2024-03-29T11:42:24.048726Z",
     "iopub.status.idle": "2024-03-29T11:42:24.065883Z",
     "shell.execute_reply": "2024-03-29T11:42:24.064850Z"
    },
    "papermill": {
     "duration": 0.026804,
     "end_time": "2024-03-29T11:42:24.068460",
     "exception": false,
     "start_time": "2024-03-29T11:42:24.041656",
     "status": "completed"
    },
    "tags": []
   },
   "outputs": [],
   "source": [
    "df = pd.read_csv(\"/kaggle/input/insurance-dataset-simple-linear-regression/simplelinearregression.csv\")"
   ]
  },
  {
   "cell_type": "markdown",
   "id": "18fbaf72",
   "metadata": {
    "papermill": {
     "duration": 0.005504,
     "end_time": "2024-03-29T11:42:24.079900",
     "exception": false,
     "start_time": "2024-03-29T11:42:24.074396",
     "status": "completed"
    },
    "tags": []
   },
   "source": [
    "# Data checking "
   ]
  },
  {
   "cell_type": "code",
   "execution_count": 4,
   "id": "121137cf",
   "metadata": {
    "execution": {
     "iopub.execute_input": "2024-03-29T11:42:24.092644Z",
     "iopub.status.busy": "2024-03-29T11:42:24.092285Z",
     "iopub.status.idle": "2024-03-29T11:42:24.106955Z",
     "shell.execute_reply": "2024-03-29T11:42:24.105990Z"
    },
    "papermill": {
     "duration": 0.023566,
     "end_time": "2024-03-29T11:42:24.109178",
     "exception": false,
     "start_time": "2024-03-29T11:42:24.085612",
     "status": "completed"
    },
    "tags": []
   },
   "outputs": [
    {
     "data": {
      "text/html": [
       "<div>\n",
       "<style scoped>\n",
       "    .dataframe tbody tr th:only-of-type {\n",
       "        vertical-align: middle;\n",
       "    }\n",
       "\n",
       "    .dataframe tbody tr th {\n",
       "        vertical-align: top;\n",
       "    }\n",
       "\n",
       "    .dataframe thead th {\n",
       "        text-align: right;\n",
       "    }\n",
       "</style>\n",
       "<table border=\"1\" class=\"dataframe\">\n",
       "  <thead>\n",
       "    <tr style=\"text-align: right;\">\n",
       "      <th></th>\n",
       "      <th>Age</th>\n",
       "      <th>Premium</th>\n",
       "    </tr>\n",
       "  </thead>\n",
       "  <tbody>\n",
       "    <tr>\n",
       "      <th>0</th>\n",
       "      <td>18</td>\n",
       "      <td>10000</td>\n",
       "    </tr>\n",
       "    <tr>\n",
       "      <th>1</th>\n",
       "      <td>22</td>\n",
       "      <td>15000</td>\n",
       "    </tr>\n",
       "    <tr>\n",
       "      <th>2</th>\n",
       "      <td>23</td>\n",
       "      <td>18000</td>\n",
       "    </tr>\n",
       "    <tr>\n",
       "      <th>3</th>\n",
       "      <td>26</td>\n",
       "      <td>21000</td>\n",
       "    </tr>\n",
       "    <tr>\n",
       "      <th>4</th>\n",
       "      <td>28</td>\n",
       "      <td>24000</td>\n",
       "    </tr>\n",
       "  </tbody>\n",
       "</table>\n",
       "</div>"
      ],
      "text/plain": [
       "   Age  Premium\n",
       "0   18    10000\n",
       "1   22    15000\n",
       "2   23    18000\n",
       "3   26    21000\n",
       "4   28    24000"
      ]
     },
     "execution_count": 4,
     "metadata": {},
     "output_type": "execute_result"
    }
   ],
   "source": [
    "df.head()"
   ]
  },
  {
   "cell_type": "code",
   "execution_count": 5,
   "id": "e5fb4cde",
   "metadata": {
    "execution": {
     "iopub.execute_input": "2024-03-29T11:42:24.122650Z",
     "iopub.status.busy": "2024-03-29T11:42:24.122300Z",
     "iopub.status.idle": "2024-03-29T11:42:24.128470Z",
     "shell.execute_reply": "2024-03-29T11:42:24.127488Z"
    },
    "papermill": {
     "duration": 0.015357,
     "end_time": "2024-03-29T11:42:24.130465",
     "exception": false,
     "start_time": "2024-03-29T11:42:24.115108",
     "status": "completed"
    },
    "tags": []
   },
   "outputs": [
    {
     "data": {
      "text/plain": [
       "(7, 2)"
      ]
     },
     "execution_count": 5,
     "metadata": {},
     "output_type": "execute_result"
    }
   ],
   "source": [
    "df.shape"
   ]
  },
  {
   "cell_type": "code",
   "execution_count": 6,
   "id": "6ee5e55c",
   "metadata": {
    "execution": {
     "iopub.execute_input": "2024-03-29T11:42:24.144054Z",
     "iopub.status.busy": "2024-03-29T11:42:24.143715Z",
     "iopub.status.idle": "2024-03-29T11:42:24.150604Z",
     "shell.execute_reply": "2024-03-29T11:42:24.149689Z"
    },
    "papermill": {
     "duration": 0.016082,
     "end_time": "2024-03-29T11:42:24.152607",
     "exception": false,
     "start_time": "2024-03-29T11:42:24.136525",
     "status": "completed"
    },
    "tags": []
   },
   "outputs": [
    {
     "data": {
      "text/plain": [
       "<bound method DataFrame.info of    Age  Premium\n",
       "0   18    10000\n",
       "1   22    15000\n",
       "2   23    18000\n",
       "3   26    21000\n",
       "4   28    24000\n",
       "5   31    26500\n",
       "6   33    27000>"
      ]
     },
     "execution_count": 6,
     "metadata": {},
     "output_type": "execute_result"
    }
   ],
   "source": [
    "df.info"
   ]
  },
  {
   "cell_type": "markdown",
   "id": "6c7dcdd0",
   "metadata": {
    "papermill": {
     "duration": 0.005704,
     "end_time": "2024-03-29T11:42:24.164369",
     "exception": false,
     "start_time": "2024-03-29T11:42:24.158665",
     "status": "completed"
    },
    "tags": []
   },
   "source": [
    "# checking Outliers "
   ]
  },
  {
   "cell_type": "code",
   "execution_count": 7,
   "id": "762cae08",
   "metadata": {
    "execution": {
     "iopub.execute_input": "2024-03-29T11:42:24.177615Z",
     "iopub.status.busy": "2024-03-29T11:42:24.177261Z",
     "iopub.status.idle": "2024-03-29T11:42:24.419404Z",
     "shell.execute_reply": "2024-03-29T11:42:24.418339Z"
    },
    "papermill": {
     "duration": 0.251343,
     "end_time": "2024-03-29T11:42:24.421548",
     "exception": false,
     "start_time": "2024-03-29T11:42:24.170205",
     "status": "completed"
    },
    "tags": []
   },
   "outputs": [
    {
     "data": {
      "text/plain": [
       "<Axes: >"
      ]
     },
     "execution_count": 7,
     "metadata": {},
     "output_type": "execute_result"
    },
    {
     "data": {
      "image/png": "[encoded data removed]",
      "text/plain": [
       "<Figure size 1000x500 with 1 Axes>"
      ]
     },
     "metadata": {},
     "output_type": "display_data"
    }
   ],
   "source": [
    "sns.boxplot(data=df)"
   ]
  },
  {
   "cell_type": "code",
   "execution_count": 8,
   "id": "99dbd1ca",
   "metadata": {
    "execution": {
     "iopub.execute_input": "2024-03-29T11:42:24.437376Z",
     "iopub.status.busy": "2024-03-29T11:42:24.436980Z",
     "iopub.status.idle": "2024-03-29T11:42:24.703844Z",
     "shell.execute_reply": "2024-03-29T11:42:24.702783Z"
    },
    "papermill": {
     "duration": 0.276907,
     "end_time": "2024-03-29T11:42:24.706080",
     "exception": false,
     "start_time": "2024-03-29T11:42:24.429173",
     "status": "completed"
    },
    "tags": []
   },
   "outputs": [
    {
     "data": {
      "text/plain": [
       "<matplotlib.collections.PathCollection at 0x7a7492da8e20>"
      ]
     },
     "execution_count": 8,
     "metadata": {},
     "output_type": "execute_result"
    },
    {
     "data": {
      "image/png": "[encoded data removed]",
      "text/plain": [
       "<Figure size 1000x500 with 1 Axes>"
      ]
     },
     "metadata": {},
     "output_type": "display_data"
    }
   ],
   "source": [
    "plt.scatter(df.Age,df.Premium,marker='+',color='red')"
   ]
  },
  {
   "cell_type": "markdown",
   "id": "254df153",
   "metadata": {
    "papermill": {
     "duration": 0.00721,
     "end_time": "2024-03-29T11:42:24.720878",
     "exception": false,
     "start_time": "2024-03-29T11:42:24.713668",
     "status": "completed"
    },
    "tags": []
   },
   "source": [
    "# Linear Regression Model "
   ]
  },
  {
   "cell_type": "code",
   "execution_count": 9,
   "id": "ef352d8d",
   "metadata": {
    "execution": {
     "iopub.execute_input": "2024-03-29T11:42:24.736977Z",
     "iopub.status.busy": "2024-03-29T11:42:24.736574Z",
     "iopub.status.idle": "2024-03-29T11:42:24.977834Z",
     "shell.execute_reply": "2024-03-29T11:42:24.976551Z"
    },
    "papermill": {
     "duration": 0.252474,
     "end_time": "2024-03-29T11:42:24.980706",
     "exception": false,
     "start_time": "2024-03-29T11:42:24.728232",
     "status": "completed"
    },
    "tags": []
   },
   "outputs": [],
   "source": [
    "from sklearn import linear_model"
   ]
  },
  {
   "cell_type": "code",
   "execution_count": 10,
   "id": "484044af",
   "metadata": {
    "execution": {
     "iopub.execute_input": "2024-03-29T11:42:24.997027Z",
     "iopub.status.busy": "2024-03-29T11:42:24.996637Z",
     "iopub.status.idle": "2024-03-29T11:42:25.022305Z",
     "shell.execute_reply": "2024-03-29T11:42:25.021280Z"
    },
    "papermill": {
     "duration": 0.036507,
     "end_time": "2024-03-29T11:42:25.024720",
     "exception": false,
     "start_time": "2024-03-29T11:42:24.988213",
     "status": "completed"
    },
    "tags": []
   },
   "outputs": [
    {
     "data": {
      "text/html": [
       "<style>#sk-container-id-1 {color: black;background-color: white;}#sk-container-id-1 pre{padding: 0;}#sk-container-id-1 div.sk-toggleable {background-color: white;}#sk-container-id-1 label.sk-toggleable__label {cursor: pointer;display: block;width: 100%;margin-bottom: 0;padding: 0.3em;box-sizing: border-box;text-align: center;}#sk-container-id-1 label.sk-toggleable__label-arrow:before {content: \"▸\";float: left;margin-right: 0.25em;color: #696969;}#sk-container-id-1 label.sk-toggleable__label-arrow:hover:before {color: black;}#sk-container-id-1 div.sk-estimator:hover label.sk-toggleable__label-arrow:before {color: black;}#sk-container-id-1 div.sk-toggleable__content {max-height: 0;max-width: 0;overflow: hidden;text-align: left;background-color: #f0f8ff;}#sk-container-id-1 div.sk-toggleable__content pre {margin: 0.2em;color: black;border-radius: 0.25em;background-color: #f0f8ff;}#sk-container-id-1 input.sk-toggleable__control:checked~div.sk-toggleable__content {max-height: 200px;max-width: 100%;overflow: auto;}#sk-container-id-1 input.sk-toggleable__control:checked~label.sk-toggleable__label-arrow:before {content: \"▾\";}#sk-container-id-1 div.sk-estimator input.sk-toggleable__control:checked~label.sk-toggleable__label {background-color: #d4ebff;}#sk-container-id-1 div.sk-label input.sk-toggleable__control:checked~label.sk-toggleable__label {background-color: #d4ebff;}#sk-container-id-1 input.sk-hidden--visually {border: 0;clip: rect(1px 1px 1px 1px);clip: rect(1px, 1px, 1px, 1px);height: 1px;margin: -1px;overflow: hidden;padding: 0;position: absolute;width: 1px;}#sk-container-id-1 div.sk-estimator {font-family: monospace;background-color: #f0f8ff;border: 1px dotted black;border-radius: 0.25em;box-sizing: border-box;margin-bottom: 0.5em;}#sk-container-id-1 div.sk-estimator:hover {background-color: #d4ebff;}#sk-container-id-1 div.sk-parallel-item::after {content: \"\";width: 100%;border-bottom: 1px solid gray;flex-grow: 1;}#sk-container-id-1 div.sk-label:hover label.sk-toggleable__label {background-color: #d4ebff;}#sk-container-id-1 div.sk-serial::before {content: \"\";position: absolute;border-left: 1px solid gray;box-sizing: border-box;top: 0;bottom: 0;left: 50%;z-index: 0;}#sk-container-id-1 div.sk-serial {display: flex;flex-direction: column;align-items: center;background-color: white;padding-right: 0.2em;padding-left: 0.2em;position: relative;}#sk-container-id-1 div.sk-item {position: relative;z-index: 1;}#sk-container-id-1 div.sk-parallel {display: flex;align-items: stretch;justify-content: center;background-color: white;position: relative;}#sk-container-id-1 div.sk-item::before, #sk-container-id-1 div.sk-parallel-item::before {content: \"\";position: absolute;border-left: 1px solid gray;box-sizing: border-box;top: 0;bottom: 0;left: 50%;z-index: -1;}#sk-container-id-1 div.sk-parallel-item {display: flex;flex-direction: column;z-index: 1;position: relative;background-color: white;}#sk-container-id-1 div.sk-parallel-item:first-child::after {align-self: flex-end;width: 50%;}#sk-container-id-1 div.sk-parallel-item:last-child::after {align-self: flex-start;width: 50%;}#sk-container-id-1 div.sk-parallel-item:only-child::after {width: 0;}#sk-container-id-1 div.sk-dashed-wrapped {border: 1px dashed gray;margin: 0 0.4em 0.5em 0.4em;box-sizing: border-box;padding-bottom: 0.4em;background-color: white;}#sk-container-id-1 div.sk-label label {font-family: monospace;font-weight: bold;display: inline-block;line-height: 1.2em;}#sk-container-id-1 div.sk-label-container {text-align: center;}#sk-container-id-1 div.sk-container {/* jupyter's `normalize.less` sets `[hidden] { display: none; }` but bootstrap.min.css set `[hidden] { display: none !important; }` so we also need the `!important` here to be able to override the default hidden behavior on the sphinx rendered scikit-learn.org. See: https://github.com/scikit-learn/scikit-learn/issues/21755 */display: inline-block !important;position: relative;}#sk-container-id-1 div.sk-text-repr-fallback {display: none;}</style><div id=\"sk-container-id-1\" class=\"sk-top-container\"><div class=\"sk-text-repr-fallback\"><pre>LinearRegression()</pre><b>In a Jupyter environment, please rerun this cell to show the HTML representation or trust the notebook. <br />On GitHub, the HTML representation is unable to render, please try loading this page with nbviewer.org.</b></div><div class=\"sk-container\" hidden><div class=\"sk-item\"><div class=\"sk-estimator sk-toggleable\"><input class=\"sk-toggleable__control sk-hidden--visually\" id=\"sk-estimator-id-1\" type=\"checkbox\" checked><label for=\"sk-estimator-id-1\" class=\"sk-toggleable__label sk-toggleable__label-arrow\">LinearRegression</label><div class=\"sk-toggleable__content\"><pre>LinearRegression()</pre></div></div></div></div></div>"
      ],
      "text/plain": [
       "LinearRegression()"
      ]
     },
     "execution_count": 10,
     "metadata": {},
     "output_type": "execute_result"
    }
   ],
   "source": [
    "reg = linear_model.LinearRegression()\n",
    "reg.fit(df[['Age']] ,df.Premium)"
   ]
  },
  {
   "cell_type": "markdown",
   "id": "ee4014f6",
   "metadata": {
    "papermill": {
     "duration": 0.007227,
     "end_time": "2024-03-29T11:42:25.039736",
     "exception": false,
     "start_time": "2024-03-29T11:42:25.032509",
     "status": "completed"
    },
    "tags": []
   },
   "source": [
    "# Predictions "
   ]
  },
  {
   "cell_type": "code",
   "execution_count": 11,
   "id": "200d844c",
   "metadata": {
    "execution": {
     "iopub.execute_input": "2024-03-29T11:42:25.056933Z",
     "iopub.status.busy": "2024-03-29T11:42:25.056584Z",
     "iopub.status.idle": "2024-03-29T11:42:25.063661Z",
     "shell.execute_reply": "2024-03-29T11:42:25.062497Z"
    },
    "papermill": {
     "duration": 0.018771,
     "end_time": "2024-03-29T11:42:25.066043",
     "exception": false,
     "start_time": "2024-03-29T11:42:25.047272",
     "status": "completed"
    },
    "tags": []
   },
   "outputs": [
    {
     "data": {
      "text/plain": [
       "array([42667.80821918])"
      ]
     },
     "execution_count": 11,
     "metadata": {},
     "output_type": "execute_result"
    }
   ],
   "source": [
    "reeg =reg.predict([[45]])\n",
    "reeg"
   ]
  },
  {
   "cell_type": "markdown",
   "id": "054cc8fa",
   "metadata": {
    "papermill": {
     "duration": 0.007305,
     "end_time": "2024-03-29T11:42:25.081109",
     "exception": false,
     "start_time": "2024-03-29T11:42:25.073804",
     "status": "completed"
    },
    "tags": []
   },
   "source": [
    "# Best suiable line for Linear regession "
   ]
  },
  {
   "cell_type": "code",
   "execution_count": 12,
   "id": "b92e8e7f",
   "metadata": {
    "execution": {
     "iopub.execute_input": "2024-03-29T11:42:25.097707Z",
     "iopub.status.busy": "2024-03-29T11:42:25.097371Z",
     "iopub.status.idle": "2024-03-29T11:42:25.384301Z",
     "shell.execute_reply": "2024-03-29T11:42:25.383181Z"
    },
    "papermill": {
     "duration": 0.297772,
     "end_time": "2024-03-29T11:42:25.386439",
     "exception": false,
     "start_time": "2024-03-29T11:42:25.088667",
     "status": "completed"
    },
    "tags": []
   },
   "outputs": [
    {
     "data": {
      "text/plain": [
       "[<matplotlib.lines.Line2D at 0x7a748f861510>]"
      ]
     },
     "execution_count": 12,
     "metadata": {},
     "output_type": "execute_result"
    },
    {
     "data": {
      "image/png": "[encoded data removed]",
      "text/plain": [
       "<Figure size 1000x500 with 1 Axes>"
      ]
     },
     "metadata": {},
     "output_type": "display_data"
    }
   ],
   "source": [
    "%matplotlib inline\n",
    "plt.xlabel('Age')\n",
    "plt.ylabel('Premium')\n",
    "plt.scatter(df.Age,df.Premium,color='red',marker='+')\n",
    "plt.plot(df.Age,reg.predict(df[['Age']]),color = 'blue')"
   ]
  },
  {
   "cell_type": "markdown",
   "id": "981e8780",
   "metadata": {
    "papermill": {
     "duration": 0.00809,
     "end_time": "2024-03-29T11:42:25.402622",
     "exception": false,
     "start_time": "2024-03-29T11:42:25.394532",
     "status": "completed"
    },
    "tags": []
   },
   "source": [
    "# Now we check the Regression Model "
   ]
  },
  {
   "cell_type": "code",
   "execution_count": 13,
   "id": "4bf185e1",
   "metadata": {
    "execution": {
     "iopub.execute_input": "2024-03-29T11:42:25.420303Z",
     "iopub.status.busy": "2024-03-29T11:42:25.419937Z",
     "iopub.status.idle": "2024-03-29T11:42:25.424855Z",
     "shell.execute_reply": "2024-03-29T11:42:25.423646Z"
    },
    "papermill": {
     "duration": 0.016428,
     "end_time": "2024-03-29T11:42:25.426982",
     "exception": false,
     "start_time": "2024-03-29T11:42:25.410554",
     "status": "completed"
    },
    "tags": []
   },
   "outputs": [],
   "source": [
    "from sklearn.linear_model import LogisticRegression\n",
    "model = LogisticRegression()"
   ]
  },
  {
   "cell_type": "code",
   "execution_count": 14,
   "id": "284411ad",
   "metadata": {
    "execution": {
     "iopub.execute_input": "2024-03-29T11:42:25.445471Z",
     "iopub.status.busy": "2024-03-29T11:42:25.445064Z",
     "iopub.status.idle": "2024-03-29T11:42:25.473863Z",
     "shell.execute_reply": "2024-03-29T11:42:25.472775Z"
    },
    "papermill": {
     "duration": 0.040817,
     "end_time": "2024-03-29T11:42:25.476070",
     "exception": false,
     "start_time": "2024-03-29T11:42:25.435253",
     "status": "completed"
    },
    "tags": []
   },
   "outputs": [
    {
     "data": {
      "text/html": [
       "<style>#sk-container-id-2 {color: black;background-color: white;}#sk-container-id-2 pre{padding: 0;}#sk-container-id-2 div.sk-toggleable {background-color: white;}#sk-container-id-2 label.sk-toggleable__label {cursor: pointer;display: block;width: 100%;margin-bottom: 0;padding: 0.3em;box-sizing: border-box;text-align: center;}#sk-container-id-2 label.sk-toggleable__label-arrow:before {content: \"▸\";float: left;margin-right: 0.25em;color: #696969;}#sk-container-id-2 label.sk-toggleable__label-arrow:hover:before {color: black;}#sk-container-id-2 div.sk-estimator:hover label.sk-toggleable__label-arrow:before {color: black;}#sk-container-id-2 div.sk-toggleable__content {max-height: 0;max-width: 0;overflow: hidden;text-align: left;background-color: #f0f8ff;}#sk-container-id-2 div.sk-toggleable__content pre {margin: 0.2em;color: black;border-radius: 0.25em;background-color: #f0f8ff;}#sk-container-id-2 input.sk-toggleable__control:checked~div.sk-toggleable__content {max-height: 200px;max-width: 100%;overflow: auto;}#sk-container-id-2 input.sk-toggleable__control:checked~label.sk-toggleable__label-arrow:before {content: \"▾\";}#sk-container-id-2 div.sk-estimator input.sk-toggleable__control:checked~label.sk-toggleable__label {background-color: #d4ebff;}#sk-container-id-2 div.sk-label input.sk-toggleable__control:checked~label.sk-toggleable__label {background-color: #d4ebff;}#sk-container-id-2 input.sk-hidden--visually {border: 0;clip: rect(1px 1px 1px 1px);clip: rect(1px, 1px, 1px, 1px);height: 1px;margin: -1px;overflow: hidden;padding: 0;position: absolute;width: 1px;}#sk-container-id-2 div.sk-estimator {font-family: monospace;background-color: #f0f8ff;border: 1px dotted black;border-radius: 0.25em;box-sizing: border-box;margin-bottom: 0.5em;}#sk-container-id-2 div.sk-estimator:hover {background-color: #d4ebff;}#sk-container-id-2 div.sk-parallel-item::after {content: \"\";width: 100%;border-bottom: 1px solid gray;flex-grow: 1;}#sk-container-id-2 div.sk-label:hover label.sk-toggleable__label {background-color: #d4ebff;}#sk-container-id-2 div.sk-serial::before {content: \"\";position: absolute;border-left: 1px solid gray;box-sizing: border-box;top: 0;bottom: 0;left: 50%;z-index: 0;}#sk-container-id-2 div.sk-serial {display: flex;flex-direction: column;align-items: center;background-color: white;padding-right: 0.2em;padding-left: 0.2em;position: relative;}#sk-container-id-2 div.sk-item {position: relative;z-index: 1;}#sk-container-id-2 div.sk-parallel {display: flex;align-items: stretch;justify-content: center;background-color: white;position: relative;}#sk-container-id-2 div.sk-item::before, #sk-container-id-2 div.sk-parallel-item::before {content: \"\";position: absolute;border-left: 1px solid gray;box-sizing: border-box;top: 0;bottom: 0;left: 50%;z-index: -1;}#sk-container-id-2 div.sk-parallel-item {display: flex;flex-direction: column;z-index: 1;position: relative;background-color: white;}#sk-container-id-2 div.sk-parallel-item:first-child::after {align-self: flex-end;width: 50%;}#sk-container-id-2 div.sk-parallel-item:last-child::after {align-self: flex-start;width: 50%;}#sk-container-id-2 div.sk-parallel-item:only-child::after {width: 0;}#sk-container-id-2 div.sk-dashed-wrapped {border: 1px dashed gray;margin: 0 0.4em 0.5em 0.4em;box-sizing: border-box;padding-bottom: 0.4em;background-color: white;}#sk-container-id-2 div.sk-label label {font-family: monospace;font-weight: bold;display: inline-block;line-height: 1.2em;}#sk-container-id-2 div.sk-label-container {text-align: center;}#sk-container-id-2 div.sk-container {/* jupyter's `normalize.less` sets `[hidden] { display: none; }` but bootstrap.min.css set `[hidden] { display: none !important; }` so we also need the `!important` here to be able to override the default hidden behavior on the sphinx rendered scikit-learn.org. See: https://github.com/scikit-learn/scikit-learn/issues/21755 */display: inline-block !important;position: relative;}#sk-container-id-2 div.sk-text-repr-fallback {display: none;}</style><div id=\"sk-container-id-2\" class=\"sk-top-container\"><div class=\"sk-text-repr-fallback\"><pre>LogisticRegression()</pre><b>In a Jupyter environment, please rerun this cell to show the HTML representation or trust the notebook. <br />On GitHub, the HTML representation is unable to render, please try loading this page with nbviewer.org.</b></div><div class=\"sk-container\" hidden><div class=\"sk-item\"><div class=\"sk-estimator sk-toggleable\"><input class=\"sk-toggleable__control sk-hidden--visually\" id=\"sk-estimator-id-2\" type=\"checkbox\" checked><label for=\"sk-estimator-id-2\" class=\"sk-toggleable__label sk-toggleable__label-arrow\">LogisticRegression</label><div class=\"sk-toggleable__content\"><pre>LogisticRegression()</pre></div></div></div></div></div>"
      ],
      "text/plain": [
       "LogisticRegression()"
      ]
     },
     "execution_count": 14,
     "metadata": {},
     "output_type": "execute_result"
    }
   ],
   "source": [
    "model.fit(df[['Age']] ,df.Premium)"
   ]
  },
  {
   "cell_type": "markdown",
   "id": "3a9ae7e0",
   "metadata": {
    "papermill": {
     "duration": 0.007942,
     "end_time": "2024-03-29T11:42:25.492190",
     "exception": false,
     "start_time": "2024-03-29T11:42:25.484248",
     "status": "completed"
    },
    "tags": []
   },
   "source": [
    "# Prediction By LOgistict Regression Model "
   ]
  },
  {
   "cell_type": "code",
   "execution_count": 15,
   "id": "4c618ab5",
   "metadata": {
    "execution": {
     "iopub.execute_input": "2024-03-29T11:42:25.511071Z",
     "iopub.status.busy": "2024-03-29T11:42:25.510468Z",
     "iopub.status.idle": "2024-03-29T11:42:25.517840Z",
     "shell.execute_reply": "2024-03-29T11:42:25.516792Z"
    },
    "papermill": {
     "duration": 0.019545,
     "end_time": "2024-03-29T11:42:25.519875",
     "exception": false,
     "start_time": "2024-03-29T11:42:25.500330",
     "status": "completed"
    },
    "tags": []
   },
   "outputs": [
    {
     "data": {
      "text/plain": [
       "array([27000])"
      ]
     },
     "execution_count": 15,
     "metadata": {},
     "output_type": "execute_result"
    }
   ],
   "source": [
    "logist = model.predict([[45]])\n",
    "logist"
   ]
  },
  {
   "cell_type": "markdown",
   "id": "b040d5f5",
   "metadata": {
    "papermill": {
     "duration": 0.008025,
     "end_time": "2024-03-29T11:42:25.536267",
     "exception": false,
     "start_time": "2024-03-29T11:42:25.528242",
     "status": "completed"
    },
    "tags": []
   },
   "source": [
    "# Best fit line for this Dataset is logistic Regression, You can see below "
   ]
  },
  {
   "cell_type": "code",
   "execution_count": 16,
   "id": "4ed51119",
   "metadata": {
    "execution": {
     "iopub.execute_input": "2024-03-29T11:42:25.554719Z",
     "iopub.status.busy": "2024-03-29T11:42:25.554091Z",
     "iopub.status.idle": "2024-03-29T11:42:25.835088Z",
     "shell.execute_reply": "2024-03-29T11:42:25.834007Z"
    },
    "papermill": {
     "duration": 0.292832,
     "end_time": "2024-03-29T11:42:25.837277",
     "exception": false,
     "start_time": "2024-03-29T11:42:25.544445",
     "status": "completed"
    },
    "tags": []
   },
   "outputs": [
    {
     "data": {
      "text/plain": [
       "[<matplotlib.lines.Line2D at 0x7a748f7053c0>]"
      ]
     },
     "execution_count": 16,
     "metadata": {},
     "output_type": "execute_result"
    },
    {
     "data": {
      "image/png": "[encoded data removed]",
      "text/plain": [
       "<Figure size 1000x500 with 1 Axes>"
      ]
     },
     "metadata": {},
     "output_type": "display_data"
    }
   ],
   "source": [
    "%matplotlib inline\n",
    "plt.xlabel('Age')\n",
    "plt.ylabel('Premium')\n",
    "plt.scatter(df.Age,df.Premium,color='red',marker='+')\n",
    "plt.plot(df.Age,model.predict(df[['Age']]),color = 'blue')"
   ]
  },
  {
   "cell_type": "markdown",
   "id": "448b9b8b",
   "metadata": {
    "papermill": {
     "duration": 0.008734,
     "end_time": "2024-03-29T11:42:25.855501",
     "exception": false,
     "start_time": "2024-03-29T11:42:25.846767",
     "status": "completed"
    },
    "tags": []
   },
   "source": [
    "# Upvote Notebook Thanks "
   ]
  }
 ],
 "metadata": {
  "kaggle": {
   "accelerator": "none",
   "dataSources": [
    {
     "datasetId": 3737036,
     "sourceId": 6470374,
     "sourceType": "datasetVersion"
    }
   ],
   "dockerImageVersionId": 30673,
   "isGpuEnabled": false,
   "isInternetEnabled": true,
   "language": "python",
   "sourceType": "notebook"
  },
  "kernelspec": {
   "display_name": "Python 3",
   "language": "python",
   "name": "python3"
  },
  "language_info": {
   "codemirror_mode": {
    "name": "ipython",
    "version": 3
   },
   "file_extension": ".py",
   "mimetype": "text/x-python",
   "name": "python",
   "nbconvert_exporter": "python",
   "pygments_lexer": "ipython3",
   "version": "3.10.13"
  },
  "papermill": {
   "default_parameters": {},
   "duration": 7.594863,
   "end_time": "2024-03-29T11:42:26.485493",
   "environment_variables": {},
   "exception": null,
   "input_path": "__notebook__.ipynb",
   "output_path": "__notebook__.ipynb",
   "parameters": {},
   "start_time": "2024-03-29T11:42:18.890630",
   "version": "2.5.0"
  }
 },
 "nbformat": 4,
 "nbformat_minor": 5
}
