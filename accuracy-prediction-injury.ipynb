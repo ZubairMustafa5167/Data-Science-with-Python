{
 "cells": [
  {
   "cell_type": "code",
   "execution_count": 1,
   "id": "0005969f",
   "metadata": {
    "_cell_guid": "b1076dfc-b9ad-4769-8c92-a6c4dae69d19",
    "_uuid": "8f2839f25d086af736a60e9eeb907d3b93b6e0e5",
    "execution": {
     "iopub.execute_input": "2024-03-14T14:03:06.434636Z",
     "iopub.status.busy": "2024-03-14T14:03:06.433810Z",
     "iopub.status.idle": "2024-03-14T14:03:07.382149Z",
     "shell.execute_reply": "2024-03-14T14:03:07.379582Z"
    },
    "papermill": {
     "duration": 0.961668,
     "end_time": "2024-03-14T14:03:07.384956",
     "exception": false,
     "start_time": "2024-03-14T14:03:06.423288",
     "status": "completed"
    },
    "tags": []
   },
   "outputs": [
    {
     "name": "stdout",
     "output_type": "stream",
     "text": [
      "/kaggle/input/injury-prediction-dataset/injury_data.csv\n"
     ]
    }
   ],
   "source": [
    "# This Python 3 environment comes with many helpful analytics libraries installed\n",
    "# It is defined by the kaggle/python Docker image: https://github.com/kaggle/docker-python\n",
    "# For example, here's several helpful packages to load\n",
    "\n",
    "import numpy as np # linear algebra\n",
    "import pandas as pd # data processing, CSV file I/O (e.g. pd.read_csv)\n",
    "\n",
    "# Input data files are available in the read-only \"../input/\" directory\n",
    "# For example, running this (by clicking run or pressing Shift+Enter) will list all files under the input directory\n",
    "\n",
    "import os\n",
    "for dirname, _, filenames in os.walk('/kaggle/input'):\n",
    "    for filename in filenames:\n",
    "        print(os.path.join(dirname, filename))\n",
    "\n",
    "# You can write up to 20GB to the current directory (/kaggle/working/) that gets preserved as output when you create a version using \"Save & Run All\" \n",
    "# You can also write temporary files to /kaggle/temp/, but they won't be saved outside of the current session"
   ]
  },
  {
   "cell_type": "code",
   "execution_count": 2,
   "id": "ebb2fa67",
   "metadata": {
    "execution": {
     "iopub.execute_input": "2024-03-14T14:03:07.404039Z",
     "iopub.status.busy": "2024-03-14T14:03:07.403399Z",
     "iopub.status.idle": "2024-03-14T14:03:07.426453Z",
     "shell.execute_reply": "2024-03-14T14:03:07.425398Z"
    },
    "papermill": {
     "duration": 0.035592,
     "end_time": "2024-03-14T14:03:07.429337",
     "exception": false,
     "start_time": "2024-03-14T14:03:07.393745",
     "status": "completed"
    },
    "tags": []
   },
   "outputs": [],
   "source": [
    "import pandas as pd\n",
    "\n",
    "df = pd.read_csv('/kaggle/input/injury-prediction-dataset/injury_data.csv')"
   ]
  },
  {
   "cell_type": "code",
   "execution_count": 3,
   "id": "e590535a",
   "metadata": {
    "execution": {
     "iopub.execute_input": "2024-03-14T14:03:07.447636Z",
     "iopub.status.busy": "2024-03-14T14:03:07.446823Z",
     "iopub.status.idle": "2024-03-14T14:03:09.150404Z",
     "shell.execute_reply": "2024-03-14T14:03:09.148922Z"
    },
    "papermill": {
     "duration": 1.716355,
     "end_time": "2024-03-14T14:03:09.153500",
     "exception": false,
     "start_time": "2024-03-14T14:03:07.437145",
     "status": "completed"
    },
    "tags": []
   },
   "outputs": [],
   "source": [
    "import numpy as np\n",
    "import pandas as pd\n",
    "import matplotlib.pyplot as plt\n",
    "%matplotlib inline\n",
    "import sklearn\n",
    "import seaborn as sns\n",
    "import warnings\n",
    "warnings.filterwarnings('ignore')\n",
    "plt.rcParams[\"figure.figsize\"] = [10,5]\n",
    "# Ignore warnings\n",
    "\n",
    "import warnings\n",
    "# Set the warning filter to ignore FutureWarning\n",
    "warnings.simplefilter(action = \"ignore\", category = FutureWarning)"
   ]
  },
  {
   "cell_type": "markdown",
   "id": "ccc2aa6f",
   "metadata": {
    "papermill": {
     "duration": 0.007338,
     "end_time": "2024-03-14T14:03:09.168772",
     "exception": false,
     "start_time": "2024-03-14T14:03:09.161434",
     "status": "completed"
    },
    "tags": []
   },
   "source": [
    "**TRAINING DATA PRE-PROCESSING**\n",
    "\n",
    "The first step in the machine learning pipeline is to clean and transform the training data into a useable format for analysis and modeling.\n",
    "\n",
    "As such, data pre-processing addresses:\n",
    "\n",
    "Assumptions about data shape\n",
    "Incorrect data types\n",
    "Outliers or errors\n",
    "Missing values\n",
    "Categorical variables"
   ]
  },
  {
   "cell_type": "code",
   "execution_count": 4,
   "id": "e5154235",
   "metadata": {
    "execution": {
     "iopub.execute_input": "2024-03-14T14:03:09.186474Z",
     "iopub.status.busy": "2024-03-14T14:03:09.185951Z",
     "iopub.status.idle": "2024-03-14T14:03:09.209777Z",
     "shell.execute_reply": "2024-03-14T14:03:09.208587Z"
    },
    "papermill": {
     "duration": 0.035652,
     "end_time": "2024-03-14T14:03:09.212272",
     "exception": false,
     "start_time": "2024-03-14T14:03:09.176620",
     "status": "completed"
    },
    "tags": []
   },
   "outputs": [
    {
     "data": {
      "text/html": [
       "<div>\n",
       "<style scoped>\n",
       "    .dataframe tbody tr th:only-of-type {\n",
       "        vertical-align: middle;\n",
       "    }\n",
       "\n",
       "    .dataframe tbody tr th {\n",
       "        vertical-align: top;\n",
       "    }\n",
       "\n",
       "    .dataframe thead th {\n",
       "        text-align: right;\n",
       "    }\n",
       "</style>\n",
       "<table border=\"1\" class=\"dataframe\">\n",
       "  <thead>\n",
       "    <tr style=\"text-align: right;\">\n",
       "      <th></th>\n",
       "      <th>Player_Age</th>\n",
       "      <th>Player_Weight</th>\n",
       "      <th>Player_Height</th>\n",
       "      <th>Previous_Injuries</th>\n",
       "      <th>Training_Intensity</th>\n",
       "      <th>Recovery_Time</th>\n",
       "      <th>Likelihood_of_Injury</th>\n",
       "    </tr>\n",
       "  </thead>\n",
       "  <tbody>\n",
       "    <tr>\n",
       "      <th>0</th>\n",
       "      <td>24</td>\n",
       "      <td>66.251933</td>\n",
       "      <td>175.732429</td>\n",
       "      <td>1</td>\n",
       "      <td>0.457929</td>\n",
       "      <td>5</td>\n",
       "      <td>0</td>\n",
       "    </tr>\n",
       "    <tr>\n",
       "      <th>1</th>\n",
       "      <td>37</td>\n",
       "      <td>70.996271</td>\n",
       "      <td>174.581650</td>\n",
       "      <td>0</td>\n",
       "      <td>0.226522</td>\n",
       "      <td>6</td>\n",
       "      <td>1</td>\n",
       "    </tr>\n",
       "    <tr>\n",
       "      <th>2</th>\n",
       "      <td>32</td>\n",
       "      <td>80.093781</td>\n",
       "      <td>186.329618</td>\n",
       "      <td>0</td>\n",
       "      <td>0.613970</td>\n",
       "      <td>2</td>\n",
       "      <td>1</td>\n",
       "    </tr>\n",
       "    <tr>\n",
       "      <th>3</th>\n",
       "      <td>28</td>\n",
       "      <td>87.473271</td>\n",
       "      <td>175.504240</td>\n",
       "      <td>1</td>\n",
       "      <td>0.252858</td>\n",
       "      <td>4</td>\n",
       "      <td>1</td>\n",
       "    </tr>\n",
       "    <tr>\n",
       "      <th>4</th>\n",
       "      <td>25</td>\n",
       "      <td>84.659220</td>\n",
       "      <td>190.175012</td>\n",
       "      <td>0</td>\n",
       "      <td>0.577632</td>\n",
       "      <td>1</td>\n",
       "      <td>1</td>\n",
       "    </tr>\n",
       "  </tbody>\n",
       "</table>\n",
       "</div>"
      ],
      "text/plain": [
       "   Player_Age  Player_Weight  Player_Height  Previous_Injuries  \\\n",
       "0          24      66.251933     175.732429                  1   \n",
       "1          37      70.996271     174.581650                  0   \n",
       "2          32      80.093781     186.329618                  0   \n",
       "3          28      87.473271     175.504240                  1   \n",
       "4          25      84.659220     190.175012                  0   \n",
       "\n",
       "   Training_Intensity  Recovery_Time  Likelihood_of_Injury  \n",
       "0            0.457929              5                     0  \n",
       "1            0.226522              6                     1  \n",
       "2            0.613970              2                     1  \n",
       "3            0.252858              4                     1  \n",
       "4            0.577632              1                     1  "
      ]
     },
     "execution_count": 4,
     "metadata": {},
     "output_type": "execute_result"
    }
   ],
   "source": [
    "df.head()"
   ]
  },
  {
   "cell_type": "code",
   "execution_count": 5,
   "id": "52ab419e",
   "metadata": {
    "execution": {
     "iopub.execute_input": "2024-03-14T14:03:09.230746Z",
     "iopub.status.busy": "2024-03-14T14:03:09.229933Z",
     "iopub.status.idle": "2024-03-14T14:03:09.243573Z",
     "shell.execute_reply": "2024-03-14T14:03:09.242316Z"
    },
    "papermill": {
     "duration": 0.02581,
     "end_time": "2024-03-14T14:03:09.246054",
     "exception": false,
     "start_time": "2024-03-14T14:03:09.220244",
     "status": "completed"
    },
    "tags": []
   },
   "outputs": [
    {
     "data": {
      "text/html": [
       "<div>\n",
       "<style scoped>\n",
       "    .dataframe tbody tr th:only-of-type {\n",
       "        vertical-align: middle;\n",
       "    }\n",
       "\n",
       "    .dataframe tbody tr th {\n",
       "        vertical-align: top;\n",
       "    }\n",
       "\n",
       "    .dataframe thead th {\n",
       "        text-align: right;\n",
       "    }\n",
       "</style>\n",
       "<table border=\"1\" class=\"dataframe\">\n",
       "  <thead>\n",
       "    <tr style=\"text-align: right;\">\n",
       "      <th></th>\n",
       "      <th>Player_Age</th>\n",
       "      <th>Player_Weight</th>\n",
       "      <th>Player_Height</th>\n",
       "      <th>Previous_Injuries</th>\n",
       "      <th>Training_Intensity</th>\n",
       "      <th>Recovery_Time</th>\n",
       "      <th>Likelihood_of_Injury</th>\n",
       "    </tr>\n",
       "  </thead>\n",
       "  <tbody>\n",
       "    <tr>\n",
       "      <th>995</th>\n",
       "      <td>23</td>\n",
       "      <td>99.147910</td>\n",
       "      <td>165.290912</td>\n",
       "      <td>0</td>\n",
       "      <td>0.077857</td>\n",
       "      <td>3</td>\n",
       "      <td>1</td>\n",
       "    </tr>\n",
       "    <tr>\n",
       "      <th>996</th>\n",
       "      <td>23</td>\n",
       "      <td>75.799934</td>\n",
       "      <td>178.132281</td>\n",
       "      <td>1</td>\n",
       "      <td>0.955448</td>\n",
       "      <td>1</td>\n",
       "      <td>0</td>\n",
       "    </tr>\n",
       "    <tr>\n",
       "      <th>997</th>\n",
       "      <td>20</td>\n",
       "      <td>78.479061</td>\n",
       "      <td>173.823908</td>\n",
       "      <td>0</td>\n",
       "      <td>0.246961</td>\n",
       "      <td>1</td>\n",
       "      <td>1</td>\n",
       "    </tr>\n",
       "    <tr>\n",
       "      <th>998</th>\n",
       "      <td>24</td>\n",
       "      <td>66.915802</td>\n",
       "      <td>197.616889</td>\n",
       "      <td>1</td>\n",
       "      <td>0.859645</td>\n",
       "      <td>2</td>\n",
       "      <td>0</td>\n",
       "    </tr>\n",
       "    <tr>\n",
       "      <th>999</th>\n",
       "      <td>36</td>\n",
       "      <td>71.847352</td>\n",
       "      <td>177.171535</td>\n",
       "      <td>0</td>\n",
       "      <td>0.168810</td>\n",
       "      <td>1</td>\n",
       "      <td>0</td>\n",
       "    </tr>\n",
       "  </tbody>\n",
       "</table>\n",
       "</div>"
      ],
      "text/plain": [
       "     Player_Age  Player_Weight  Player_Height  Previous_Injuries  \\\n",
       "995          23      99.147910     165.290912                  0   \n",
       "996          23      75.799934     178.132281                  1   \n",
       "997          20      78.479061     173.823908                  0   \n",
       "998          24      66.915802     197.616889                  1   \n",
       "999          36      71.847352     177.171535                  0   \n",
       "\n",
       "     Training_Intensity  Recovery_Time  Likelihood_of_Injury  \n",
       "995            0.077857              3                     1  \n",
       "996            0.955448              1                     0  \n",
       "997            0.246961              1                     1  \n",
       "998            0.859645              2                     0  \n",
       "999            0.168810              1                     0  "
      ]
     },
     "execution_count": 5,
     "metadata": {},
     "output_type": "execute_result"
    }
   ],
   "source": [
    "df.tail()"
   ]
  },
  {
   "cell_type": "code",
   "execution_count": 6,
   "id": "57b1233f",
   "metadata": {
    "execution": {
     "iopub.execute_input": "2024-03-14T14:03:09.265330Z",
     "iopub.status.busy": "2024-03-14T14:03:09.264880Z",
     "iopub.status.idle": "2024-03-14T14:03:09.301570Z",
     "shell.execute_reply": "2024-03-14T14:03:09.300193Z"
    },
    "papermill": {
     "duration": 0.050057,
     "end_time": "2024-03-14T14:03:09.304345",
     "exception": false,
     "start_time": "2024-03-14T14:03:09.254288",
     "status": "completed"
    },
    "tags": []
   },
   "outputs": [
    {
     "data": {
      "text/html": [
       "<div>\n",
       "<style scoped>\n",
       "    .dataframe tbody tr th:only-of-type {\n",
       "        vertical-align: middle;\n",
       "    }\n",
       "\n",
       "    .dataframe tbody tr th {\n",
       "        vertical-align: top;\n",
       "    }\n",
       "\n",
       "    .dataframe thead th {\n",
       "        text-align: right;\n",
       "    }\n",
       "</style>\n",
       "<table border=\"1\" class=\"dataframe\">\n",
       "  <thead>\n",
       "    <tr style=\"text-align: right;\">\n",
       "      <th></th>\n",
       "      <th>Player_Age</th>\n",
       "      <th>Player_Weight</th>\n",
       "      <th>Player_Height</th>\n",
       "      <th>Previous_Injuries</th>\n",
       "      <th>Training_Intensity</th>\n",
       "      <th>Recovery_Time</th>\n",
       "      <th>Likelihood_of_Injury</th>\n",
       "    </tr>\n",
       "  </thead>\n",
       "  <tbody>\n",
       "    <tr>\n",
       "      <th>count</th>\n",
       "      <td>1000.000000</td>\n",
       "      <td>1000.000000</td>\n",
       "      <td>1000.000000</td>\n",
       "      <td>1000.000000</td>\n",
       "      <td>1000.000000</td>\n",
       "      <td>1000.000000</td>\n",
       "      <td>1000.00000</td>\n",
       "    </tr>\n",
       "    <tr>\n",
       "      <th>mean</th>\n",
       "      <td>28.231000</td>\n",
       "      <td>74.794351</td>\n",
       "      <td>179.750948</td>\n",
       "      <td>0.515000</td>\n",
       "      <td>0.490538</td>\n",
       "      <td>3.466000</td>\n",
       "      <td>0.50000</td>\n",
       "    </tr>\n",
       "    <tr>\n",
       "      <th>std</th>\n",
       "      <td>6.538378</td>\n",
       "      <td>9.892621</td>\n",
       "      <td>9.888921</td>\n",
       "      <td>0.500025</td>\n",
       "      <td>0.286184</td>\n",
       "      <td>1.701099</td>\n",
       "      <td>0.50025</td>\n",
       "    </tr>\n",
       "    <tr>\n",
       "      <th>min</th>\n",
       "      <td>18.000000</td>\n",
       "      <td>40.191912</td>\n",
       "      <td>145.285701</td>\n",
       "      <td>0.000000</td>\n",
       "      <td>0.000031</td>\n",
       "      <td>1.000000</td>\n",
       "      <td>0.00000</td>\n",
       "    </tr>\n",
       "    <tr>\n",
       "      <th>25%</th>\n",
       "      <td>22.000000</td>\n",
       "      <td>67.944028</td>\n",
       "      <td>173.036976</td>\n",
       "      <td>0.000000</td>\n",
       "      <td>0.241042</td>\n",
       "      <td>2.000000</td>\n",
       "      <td>0.00000</td>\n",
       "    </tr>\n",
       "    <tr>\n",
       "      <th>50%</th>\n",
       "      <td>28.000000</td>\n",
       "      <td>75.020569</td>\n",
       "      <td>180.034436</td>\n",
       "      <td>1.000000</td>\n",
       "      <td>0.483912</td>\n",
       "      <td>4.000000</td>\n",
       "      <td>0.50000</td>\n",
       "    </tr>\n",
       "    <tr>\n",
       "      <th>75%</th>\n",
       "      <td>34.000000</td>\n",
       "      <td>81.302956</td>\n",
       "      <td>186.557913</td>\n",
       "      <td>1.000000</td>\n",
       "      <td>0.730404</td>\n",
       "      <td>5.000000</td>\n",
       "      <td>1.00000</td>\n",
       "    </tr>\n",
       "    <tr>\n",
       "      <th>max</th>\n",
       "      <td>39.000000</td>\n",
       "      <td>104.650104</td>\n",
       "      <td>207.308672</td>\n",
       "      <td>1.000000</td>\n",
       "      <td>0.997749</td>\n",
       "      <td>6.000000</td>\n",
       "      <td>1.00000</td>\n",
       "    </tr>\n",
       "  </tbody>\n",
       "</table>\n",
       "</div>"
      ],
      "text/plain": [
       "        Player_Age  Player_Weight  Player_Height  Previous_Injuries  \\\n",
       "count  1000.000000    1000.000000    1000.000000        1000.000000   \n",
       "mean     28.231000      74.794351     179.750948           0.515000   \n",
       "std       6.538378       9.892621       9.888921           0.500025   \n",
       "min      18.000000      40.191912     145.285701           0.000000   \n",
       "25%      22.000000      67.944028     173.036976           0.000000   \n",
       "50%      28.000000      75.020569     180.034436           1.000000   \n",
       "75%      34.000000      81.302956     186.557913           1.000000   \n",
       "max      39.000000     104.650104     207.308672           1.000000   \n",
       "\n",
       "       Training_Intensity  Recovery_Time  Likelihood_of_Injury  \n",
       "count         1000.000000    1000.000000            1000.00000  \n",
       "mean             0.490538       3.466000               0.50000  \n",
       "std              0.286184       1.701099               0.50025  \n",
       "min              0.000031       1.000000               0.00000  \n",
       "25%              0.241042       2.000000               0.00000  \n",
       "50%              0.483912       4.000000               0.50000  \n",
       "75%              0.730404       5.000000               1.00000  \n",
       "max              0.997749       6.000000               1.00000  "
      ]
     },
     "execution_count": 6,
     "metadata": {},
     "output_type": "execute_result"
    }
   ],
   "source": [
    "df.describe()"
   ]
  },
  {
   "cell_type": "code",
   "execution_count": 7,
   "id": "9cdd7385",
   "metadata": {
    "execution": {
     "iopub.execute_input": "2024-03-14T14:03:09.324182Z",
     "iopub.status.busy": "2024-03-14T14:03:09.323746Z",
     "iopub.status.idle": "2024-03-14T14:03:09.348553Z",
     "shell.execute_reply": "2024-03-14T14:03:09.347591Z"
    },
    "papermill": {
     "duration": 0.03679,
     "end_time": "2024-03-14T14:03:09.350736",
     "exception": false,
     "start_time": "2024-03-14T14:03:09.313946",
     "status": "completed"
    },
    "tags": []
   },
   "outputs": [
    {
     "name": "stdout",
     "output_type": "stream",
     "text": [
      "<class 'pandas.core.frame.DataFrame'>\n",
      "RangeIndex: 1000 entries, 0 to 999\n",
      "Data columns (total 7 columns):\n",
      " #   Column                Non-Null Count  Dtype  \n",
      "---  ------                --------------  -----  \n",
      " 0   Player_Age            1000 non-null   int64  \n",
      " 1   Player_Weight         1000 non-null   float64\n",
      " 2   Player_Height         1000 non-null   float64\n",
      " 3   Previous_Injuries     1000 non-null   int64  \n",
      " 4   Training_Intensity    1000 non-null   float64\n",
      " 5   Recovery_Time         1000 non-null   int64  \n",
      " 6   Likelihood_of_Injury  1000 non-null   int64  \n",
      "dtypes: float64(3), int64(4)\n",
      "memory usage: 54.8 KB\n"
     ]
    }
   ],
   "source": [
    "df.info()"
   ]
  },
  {
   "cell_type": "markdown",
   "id": "8dc1c573",
   "metadata": {
    "papermill": {
     "duration": 0.008077,
     "end_time": "2024-03-14T14:03:09.367141",
     "exception": false,
     "start_time": "2024-03-14T14:03:09.359064",
     "status": "completed"
    },
    "tags": []
   },
   "source": [
    "**Missing Data**\n",
    "\n",
    "A heatmap will help better visualize what features as missing the most information."
   ]
  },
  {
   "cell_type": "code",
   "execution_count": 8,
   "id": "d9c042d4",
   "metadata": {
    "execution": {
     "iopub.execute_input": "2024-03-14T14:03:09.386069Z",
     "iopub.status.busy": "2024-03-14T14:03:09.385569Z",
     "iopub.status.idle": "2024-03-14T14:03:09.592453Z",
     "shell.execute_reply": "2024-03-14T14:03:09.591231Z"
    },
    "papermill": {
     "duration": 0.219381,
     "end_time": "2024-03-14T14:03:09.594884",
     "exception": false,
     "start_time": "2024-03-14T14:03:09.375503",
     "status": "completed"
    },
    "tags": []
   },
   "outputs": [
    {
     "data": {
      "image/png": "[encoded data removed]",
      "text/plain": [
       "<Figure size 1000x500 with 1 Axes>"
      ]
     },
     "metadata": {},
     "output_type": "display_data"
    }
   ],
   "source": [
    "# Heatmap\n",
    "sns.heatmap(df.isnull(),yticklabels = False, cbar = False,cmap = 'tab20c_r')\n",
    "plt.title('Missing Data: Training Set')\n",
    "plt.show()"
   ]
  },
  {
   "cell_type": "code",
   "execution_count": 9,
   "id": "181473a7",
   "metadata": {
    "execution": {
     "iopub.execute_input": "2024-03-14T14:03:09.616286Z",
     "iopub.status.busy": "2024-03-14T14:03:09.614785Z",
     "iopub.status.idle": "2024-03-14T14:03:09.623078Z",
     "shell.execute_reply": "2024-03-14T14:03:09.622146Z"
    },
    "papermill": {
     "duration": 0.021557,
     "end_time": "2024-03-14T14:03:09.625645",
     "exception": false,
     "start_time": "2024-03-14T14:03:09.604088",
     "status": "completed"
    },
    "tags": []
   },
   "outputs": [],
   "source": [
    "# Split data to be used in the models\n",
    "# Create matrix of features\n",
    "x = df.drop('Likelihood_of_Injury', axis = 1) # grabs everything else but 'Price'\n",
    "\n",
    "# Create target variable\n",
    "y = df['Likelihood_of_Injury'] # y is the column we're trying to predict"
   ]
  },
  {
   "cell_type": "code",
   "execution_count": 10,
   "id": "ad3e8cf8",
   "metadata": {
    "execution": {
     "iopub.execute_input": "2024-03-14T14:03:09.646886Z",
     "iopub.status.busy": "2024-03-14T14:03:09.646358Z",
     "iopub.status.idle": "2024-03-14T14:03:09.702178Z",
     "shell.execute_reply": "2024-03-14T14:03:09.700786Z"
    },
    "papermill": {
     "duration": 0.069813,
     "end_time": "2024-03-14T14:03:09.705133",
     "exception": false,
     "start_time": "2024-03-14T14:03:09.635320",
     "status": "completed"
    },
    "tags": []
   },
   "outputs": [],
   "source": [
    "from sklearn import preprocessing\n",
    "pre_process = preprocessing.StandardScaler().fit(x)\n",
    "x_transform = pre_process.fit_transform(x)"
   ]
  },
  {
   "cell_type": "code",
   "execution_count": 11,
   "id": "e5bf5f86",
   "metadata": {
    "execution": {
     "iopub.execute_input": "2024-03-14T14:03:09.725426Z",
     "iopub.status.busy": "2024-03-14T14:03:09.724913Z",
     "iopub.status.idle": "2024-03-14T14:03:09.838723Z",
     "shell.execute_reply": "2024-03-14T14:03:09.837772Z"
    },
    "papermill": {
     "duration": 0.127114,
     "end_time": "2024-03-14T14:03:09.841364",
     "exception": false,
     "start_time": "2024-03-14T14:03:09.714250",
     "status": "completed"
    },
    "tags": []
   },
   "outputs": [],
   "source": [
    "# Use x and y variables to split the training data into train and test set\n",
    "from sklearn.model_selection import train_test_split\n",
    "x_train, x_test, y_train, y_test = train_test_split(x_transform, y, test_size = .10, random_state = 101)"
   ]
  },
  {
   "cell_type": "markdown",
   "id": "27c6281e",
   "metadata": {
    "papermill": {
     "duration": 0.00866,
     "end_time": "2024-03-14T14:03:09.859301",
     "exception": false,
     "start_time": "2024-03-14T14:03:09.850641",
     "status": "completed"
    },
    "tags": []
   },
   "source": [
    "# LINEAR REGRESSION"
   ]
  },
  {
   "cell_type": "markdown",
   "id": "2ddb7927",
   "metadata": {
    "papermill": {
     "duration": 0.008789,
     "end_time": "2024-03-14T14:03:09.877008",
     "exception": false,
     "start_time": "2024-03-14T14:03:09.868219",
     "status": "completed"
    },
    "tags": []
   },
   "source": [
    "## Model Training"
   ]
  },
  {
   "cell_type": "code",
   "execution_count": 12,
   "id": "5428eb08",
   "metadata": {
    "execution": {
     "iopub.execute_input": "2024-03-14T14:03:09.897490Z",
     "iopub.status.busy": "2024-03-14T14:03:09.896657Z",
     "iopub.status.idle": "2024-03-14T14:03:10.033600Z",
     "shell.execute_reply": "2024-03-14T14:03:10.032432Z"
    },
    "papermill": {
     "duration": 0.150433,
     "end_time": "2024-03-14T14:03:10.036454",
     "exception": false,
     "start_time": "2024-03-14T14:03:09.886021",
     "status": "completed"
    },
    "tags": []
   },
   "outputs": [
    {
     "data": {
      "text/html": [
       "<style>#sk-container-id-1 {color: black;background-color: white;}#sk-container-id-1 pre{padding: 0;}#sk-container-id-1 div.sk-toggleable {background-color: white;}#sk-container-id-1 label.sk-toggleable__label {cursor: pointer;display: block;width: 100%;margin-bottom: 0;padding: 0.3em;box-sizing: border-box;text-align: center;}#sk-container-id-1 label.sk-toggleable__label-arrow:before {content: \"▸\";float: left;margin-right: 0.25em;color: #696969;}#sk-container-id-1 label.sk-toggleable__label-arrow:hover:before {color: black;}#sk-container-id-1 div.sk-estimator:hover label.sk-toggleable__label-arrow:before {color: black;}#sk-container-id-1 div.sk-toggleable__content {max-height: 0;max-width: 0;overflow: hidden;text-align: left;background-color: #f0f8ff;}#sk-container-id-1 div.sk-toggleable__content pre {margin: 0.2em;color: black;border-radius: 0.25em;background-color: #f0f8ff;}#sk-container-id-1 input.sk-toggleable__control:checked~div.sk-toggleable__content {max-height: 200px;max-width: 100%;overflow: auto;}#sk-container-id-1 input.sk-toggleable__control:checked~label.sk-toggleable__label-arrow:before {content: \"▾\";}#sk-container-id-1 div.sk-estimator input.sk-toggleable__control:checked~label.sk-toggleable__label {background-color: #d4ebff;}#sk-container-id-1 div.sk-label input.sk-toggleable__control:checked~label.sk-toggleable__label {background-color: #d4ebff;}#sk-container-id-1 input.sk-hidden--visually {border: 0;clip: rect(1px 1px 1px 1px);clip: rect(1px, 1px, 1px, 1px);height: 1px;margin: -1px;overflow: hidden;padding: 0;position: absolute;width: 1px;}#sk-container-id-1 div.sk-estimator {font-family: monospace;background-color: #f0f8ff;border: 1px dotted black;border-radius: 0.25em;box-sizing: border-box;margin-bottom: 0.5em;}#sk-container-id-1 div.sk-estimator:hover {background-color: #d4ebff;}#sk-container-id-1 div.sk-parallel-item::after {content: \"\";width: 100%;border-bottom: 1px solid gray;flex-grow: 1;}#sk-container-id-1 div.sk-label:hover label.sk-toggleable__label {background-color: #d4ebff;}#sk-container-id-1 div.sk-serial::before {content: \"\";position: absolute;border-left: 1px solid gray;box-sizing: border-box;top: 0;bottom: 0;left: 50%;z-index: 0;}#sk-container-id-1 div.sk-serial {display: flex;flex-direction: column;align-items: center;background-color: white;padding-right: 0.2em;padding-left: 0.2em;position: relative;}#sk-container-id-1 div.sk-item {position: relative;z-index: 1;}#sk-container-id-1 div.sk-parallel {display: flex;align-items: stretch;justify-content: center;background-color: white;position: relative;}#sk-container-id-1 div.sk-item::before, #sk-container-id-1 div.sk-parallel-item::before {content: \"\";position: absolute;border-left: 1px solid gray;box-sizing: border-box;top: 0;bottom: 0;left: 50%;z-index: -1;}#sk-container-id-1 div.sk-parallel-item {display: flex;flex-direction: column;z-index: 1;position: relative;background-color: white;}#sk-container-id-1 div.sk-parallel-item:first-child::after {align-self: flex-end;width: 50%;}#sk-container-id-1 div.sk-parallel-item:last-child::after {align-self: flex-start;width: 50%;}#sk-container-id-1 div.sk-parallel-item:only-child::after {width: 0;}#sk-container-id-1 div.sk-dashed-wrapped {border: 1px dashed gray;margin: 0 0.4em 0.5em 0.4em;box-sizing: border-box;padding-bottom: 0.4em;background-color: white;}#sk-container-id-1 div.sk-label label {font-family: monospace;font-weight: bold;display: inline-block;line-height: 1.2em;}#sk-container-id-1 div.sk-label-container {text-align: center;}#sk-container-id-1 div.sk-container {/* jupyter's `normalize.less` sets `[hidden] { display: none; }` but bootstrap.min.css set `[hidden] { display: none !important; }` so we also need the `!important` here to be able to override the default hidden behavior on the sphinx rendered scikit-learn.org. See: https://github.com/scikit-learn/scikit-learn/issues/21755 */display: inline-block !important;position: relative;}#sk-container-id-1 div.sk-text-repr-fallback {display: none;}</style><div id=\"sk-container-id-1\" class=\"sk-top-container\"><div class=\"sk-text-repr-fallback\"><pre>LinearRegression()</pre><b>In a Jupyter environment, please rerun this cell to show the HTML representation or trust the notebook. <br />On GitHub, the HTML representation is unable to render, please try loading this page with nbviewer.org.</b></div><div class=\"sk-container\" hidden><div class=\"sk-item\"><div class=\"sk-estimator sk-toggleable\"><input class=\"sk-toggleable__control sk-hidden--visually\" id=\"sk-estimator-id-1\" type=\"checkbox\" checked><label for=\"sk-estimator-id-1\" class=\"sk-toggleable__label sk-toggleable__label-arrow\">LinearRegression</label><div class=\"sk-toggleable__content\"><pre>LinearRegression()</pre></div></div></div></div></div>"
      ],
      "text/plain": [
       "LinearRegression()"
      ]
     },
     "execution_count": 12,
     "metadata": {},
     "output_type": "execute_result"
    }
   ],
   "source": [
    "# Fit\n",
    "# Import model\n",
    "from sklearn.linear_model import LinearRegression\n",
    "from sklearn.pipeline import make_pipeline\n",
    "from sklearn.preprocessing import StandardScaler\n",
    "\n",
    "# Create instance of model\n",
    "lin_reg = LinearRegression()\n",
    "\n",
    "# Pass training data into model\n",
    "lin_reg.fit(x_train, y_train)\n",
    "# pipe = make_pipeline(StandardScaler(), LinearRegression())\n",
    "# pipe.fit(x_train, y_train)"
   ]
  },
  {
   "cell_type": "markdown",
   "id": "f6a15e52",
   "metadata": {
    "papermill": {
     "duration": 0.0093,
     "end_time": "2024-03-14T14:03:10.055934",
     "exception": false,
     "start_time": "2024-03-14T14:03:10.046634",
     "status": "completed"
    },
    "tags": []
   },
   "source": [
    "## Model Testing\n",
    "## Class prediction"
   ]
  },
  {
   "cell_type": "code",
   "execution_count": 13,
   "id": "7cd3f8b5",
   "metadata": {
    "execution": {
     "iopub.execute_input": "2024-03-14T14:03:10.077641Z",
     "iopub.status.busy": "2024-03-14T14:03:10.077145Z",
     "iopub.status.idle": "2024-03-14T14:03:10.084748Z",
     "shell.execute_reply": "2024-03-14T14:03:10.083824Z"
    },
    "papermill": {
     "duration": 0.022066,
     "end_time": "2024-03-14T14:03:10.088047",
     "exception": false,
     "start_time": "2024-03-14T14:03:10.065981",
     "status": "completed"
    },
    "tags": []
   },
   "outputs": [
    {
     "name": "stdout",
     "output_type": "stream",
     "text": [
      "(100,)\n",
      "[0.46833967 0.55763671 0.56186167 0.54092527 0.43485218 0.52221289\n",
      " 0.467164   0.4543322  0.40701473 0.5288165  0.57865229 0.51262747\n",
      " 0.52247617 0.48396879 0.55439232 0.46880327 0.50652231 0.52552082\n",
      " 0.50040387 0.53102135 0.44245573 0.53094948 0.49196016 0.6018452\n",
      " 0.47249079 0.57017172 0.43324612 0.56272753 0.48295569 0.56117276\n",
      " 0.47536973 0.53004958 0.50961034 0.45007779 0.41140414 0.58733859\n",
      " 0.5153536  0.49406553 0.5046166  0.48057972 0.53066849 0.49029609\n",
      " 0.46018305 0.481668   0.49137757 0.39022618 0.42545586 0.54759306\n",
      " 0.47387912 0.50236409 0.49683043 0.47496231 0.55138802 0.49801128\n",
      " 0.56622047 0.45031603 0.49605676 0.52667441 0.40545149 0.47968691\n",
      " 0.45206136 0.53944651 0.55576534 0.43177899 0.49128461 0.4775476\n",
      " 0.50206723 0.46128786 0.52819227 0.45054745 0.52468717 0.54213063\n",
      " 0.53668196 0.49591626 0.54058507 0.48771379 0.43535025 0.50084598\n",
      " 0.51509586 0.55429709 0.47826545 0.49541493 0.51543125 0.46544636\n",
      " 0.45456473 0.46171752 0.47277704 0.49225644 0.45693056 0.47422355\n",
      " 0.47690049 0.5193089  0.4461505  0.42602981 0.53059232 0.51399558\n",
      " 0.56353164 0.43915346 0.45640578 0.49509387]\n"
     ]
    }
   ],
   "source": [
    "# Predict\n",
    "y_pred = lin_reg.predict(x_test)\n",
    "print(y_pred.shape)\n",
    "print(y_pred)"
   ]
  },
  {
   "cell_type": "code",
   "execution_count": 14,
   "id": "89651fbd",
   "metadata": {
    "execution": {
     "iopub.execute_input": "2024-03-14T14:03:10.109424Z",
     "iopub.status.busy": "2024-03-14T14:03:10.108272Z",
     "iopub.status.idle": "2024-03-14T14:03:10.433426Z",
     "shell.execute_reply": "2024-03-14T14:03:10.432200Z"
    },
    "papermill": {
     "duration": 0.338255,
     "end_time": "2024-03-14T14:03:10.435818",
     "exception": false,
     "start_time": "2024-03-14T14:03:10.097563",
     "status": "completed"
    },
    "tags": []
   },
   "outputs": [
    {
     "data": {
      "image/png": "[encoded data removed]",
      "text/plain": [
       "<Figure size 1000x500 with 1 Axes>"
      ]
     },
     "metadata": {},
     "output_type": "display_data"
    }
   ],
   "source": [
    "sns.scatterplot(x=y_test, y=y_pred, color='blue', label='Actual Data points')\n",
    "plt.plot([min(y_test), max(y_test)], [min(y_test), max(y_test)], color='red', label='Ideal Line')\n",
    "plt.legend()\n",
    "plt.show()"
   ]
  },
  {
   "cell_type": "code",
   "execution_count": 15,
   "id": "d716cec2",
   "metadata": {
    "execution": {
     "iopub.execute_input": "2024-03-14T14:03:10.460455Z",
     "iopub.status.busy": "2024-03-14T14:03:10.459945Z",
     "iopub.status.idle": "2024-03-14T14:03:10.469393Z",
     "shell.execute_reply": "2024-03-14T14:03:10.468155Z"
    },
    "papermill": {
     "duration": 0.0268,
     "end_time": "2024-03-14T14:03:10.472687",
     "exception": false,
     "start_time": "2024-03-14T14:03:10.445887",
     "status": "completed"
    },
    "tags": []
   },
   "outputs": [
    {
     "name": "stdout",
     "output_type": "stream",
     "text": [
      "Actual Values  |  Predicted Values\n",
      "-----------------------------\n",
      "          0.00 |          0.47\n",
      "          1.00 |          0.56\n",
      "          0.00 |          0.56\n",
      "          1.00 |          0.54\n",
      "          1.00 |          0.43\n",
      "          0.00 |          0.52\n",
      "          0.00 |          0.47\n",
      "          1.00 |          0.45\n",
      "          0.00 |          0.41\n",
      "          0.00 |          0.53\n",
      "          1.00 |          0.58\n",
      "          1.00 |          0.51\n",
      "          1.00 |          0.52\n",
      "          1.00 |          0.48\n",
      "          0.00 |          0.55\n",
      "          1.00 |          0.47\n",
      "          1.00 |          0.51\n",
      "          1.00 |          0.53\n",
      "          0.00 |          0.50\n",
      "          0.00 |          0.53\n",
      "          1.00 |          0.44\n",
      "          1.00 |          0.53\n",
      "          1.00 |          0.49\n",
      "          0.00 |          0.60\n",
      "          1.00 |          0.47\n",
      "          1.00 |          0.57\n",
      "          0.00 |          0.43\n",
      "          0.00 |          0.56\n",
      "          0.00 |          0.48\n",
      "          1.00 |          0.56\n",
      "          1.00 |          0.48\n",
      "          1.00 |          0.53\n",
      "          0.00 |          0.51\n",
      "          1.00 |          0.45\n",
      "          0.00 |          0.41\n",
      "          0.00 |          0.59\n",
      "          0.00 |          0.52\n",
      "          1.00 |          0.49\n",
      "          1.00 |          0.50\n",
      "          0.00 |          0.48\n",
      "          1.00 |          0.53\n",
      "          0.00 |          0.49\n",
      "          0.00 |          0.46\n",
      "          0.00 |          0.48\n",
      "          0.00 |          0.49\n",
      "          1.00 |          0.39\n",
      "          1.00 |          0.43\n",
      "          1.00 |          0.55\n",
      "          1.00 |          0.47\n",
      "          0.00 |          0.50\n",
      "          0.00 |          0.50\n",
      "          0.00 |          0.47\n",
      "          1.00 |          0.55\n",
      "          1.00 |          0.50\n",
      "          1.00 |          0.57\n",
      "          0.00 |          0.45\n",
      "          0.00 |          0.50\n",
      "          1.00 |          0.53\n",
      "          0.00 |          0.41\n",
      "          1.00 |          0.48\n",
      "          1.00 |          0.45\n",
      "          0.00 |          0.54\n",
      "          1.00 |          0.56\n",
      "          0.00 |          0.43\n",
      "          1.00 |          0.49\n",
      "          1.00 |          0.48\n",
      "          1.00 |          0.50\n",
      "          0.00 |          0.46\n",
      "          1.00 |          0.53\n",
      "          0.00 |          0.45\n",
      "          0.00 |          0.52\n",
      "          0.00 |          0.54\n",
      "          1.00 |          0.54\n",
      "          0.00 |          0.50\n",
      "          1.00 |          0.54\n",
      "          0.00 |          0.49\n",
      "          1.00 |          0.44\n",
      "          0.00 |          0.50\n",
      "          0.00 |          0.52\n",
      "          0.00 |          0.55\n",
      "          0.00 |          0.48\n",
      "          1.00 |          0.50\n",
      "          1.00 |          0.52\n",
      "          1.00 |          0.47\n",
      "          1.00 |          0.45\n",
      "          1.00 |          0.46\n",
      "          1.00 |          0.47\n",
      "          0.00 |          0.49\n",
      "          1.00 |          0.46\n",
      "          1.00 |          0.47\n",
      "          1.00 |          0.48\n",
      "          1.00 |          0.52\n",
      "          0.00 |          0.45\n",
      "          1.00 |          0.43\n",
      "          1.00 |          0.53\n",
      "          1.00 |          0.51\n",
      "          0.00 |          0.56\n",
      "          1.00 |          0.44\n",
      "          0.00 |          0.46\n",
      "          1.00 |          0.50\n"
     ]
    }
   ],
   "source": [
    "# Combine actual and predicted values side by side\n",
    "results = np.column_stack((y_test, y_pred))\n",
    "\n",
    "# Printing the results\n",
    "print(\"Actual Values  |  Predicted Values\")\n",
    "print(\"-----------------------------\")\n",
    "for actual, predicted in results:\n",
    "    print(f\"{actual:14.2f} |  {predicted:12.2f}\")"
   ]
  },
  {
   "cell_type": "markdown",
   "id": "69290236",
   "metadata": {
    "papermill": {
     "duration": 0.014862,
     "end_time": "2024-03-14T14:03:10.500200",
     "exception": false,
     "start_time": "2024-03-14T14:03:10.485338",
     "status": "completed"
    },
    "tags": []
   },
   "source": [
    "# Residual Analysis"
   ]
  },
  {
   "cell_type": "code",
   "execution_count": 16,
   "id": "36c6355d",
   "metadata": {
    "execution": {
     "iopub.execute_input": "2024-03-14T14:03:10.528881Z",
     "iopub.status.busy": "2024-03-14T14:03:10.528239Z",
     "iopub.status.idle": "2024-03-14T14:03:10.537765Z",
     "shell.execute_reply": "2024-03-14T14:03:10.535610Z"
    },
    "papermill": {
     "duration": 0.026717,
     "end_time": "2024-03-14T14:03:10.540667",
     "exception": false,
     "start_time": "2024-03-14T14:03:10.513950",
     "status": "completed"
    },
    "tags": []
   },
   "outputs": [
    {
     "name": "stdout",
     "output_type": "stream",
     "text": [
      "[0.53166033 0.44236329 0.43813833 0.45907473 0.56514782 0.47778711\n",
      " 0.532836   0.5456678  0.59298527 0.4711835  0.42134771 0.48737253\n",
      " 0.47752383 0.51603121 0.44560768 0.53119673 0.49347769 0.47447918\n",
      " 0.49959613 0.46897865 0.55754427 0.46905052 0.50803984 0.3981548\n",
      " 0.52750921 0.42982828 0.56675388 0.43727247 0.51704431 0.43882724\n",
      " 0.52463027 0.46995042 0.49038966 0.54992221 0.58859586 0.41266141\n",
      " 0.4846464  0.50593447 0.4953834  0.51942028 0.46933151 0.50970391\n",
      " 0.53981695 0.518332   0.50862243 0.60977382 0.57454414 0.45240694\n",
      " 0.52612088 0.49763591 0.50316957 0.52503769 0.44861198 0.50198872\n",
      " 0.43377953 0.54968397 0.50394324 0.47332559 0.59454851 0.52031309\n",
      " 0.54793864 0.46055349 0.44423466 0.56822101 0.50871539 0.5224524\n",
      " 0.49793277 0.53871214 0.47180773 0.54945255 0.47531283 0.45786937\n",
      " 0.46331804 0.50408374 0.45941493 0.51228621 0.56464975 0.49915402\n",
      " 0.48490414 0.44570291 0.52173455 0.50458507 0.48456875 0.53455364\n",
      " 0.54543527 0.53828248 0.52722296 0.50774356 0.54306944 0.52577645\n",
      " 0.52309951 0.4806911  0.5538495  0.57397019 0.46940768 0.48600442\n",
      " 0.43646836 0.56084654 0.54359422 0.50490613]\n"
     ]
    }
   ],
   "source": [
    "residual = actual- y_pred.reshape(-1)\n",
    "print(residual)"
   ]
  },
  {
   "cell_type": "code",
   "execution_count": 17,
   "id": "968747c1",
   "metadata": {
    "execution": {
     "iopub.execute_input": "2024-03-14T14:03:10.566939Z",
     "iopub.status.busy": "2024-03-14T14:03:10.566151Z",
     "iopub.status.idle": "2024-03-14T14:03:10.897307Z",
     "shell.execute_reply": "2024-03-14T14:03:10.895955Z"
    },
    "papermill": {
     "duration": 0.348447,
     "end_time": "2024-03-14T14:03:10.899888",
     "exception": false,
     "start_time": "2024-03-14T14:03:10.551441",
     "status": "completed"
    },
    "tags": []
   },
   "outputs": [
    {
     "data": {
      "text/plain": [
       "<Axes: ylabel='Density'>"
      ]
     },
     "execution_count": 17,
     "metadata": {},
     "output_type": "execute_result"
    },
    {
     "data": {
      "image/png": "[encoded data removed]",
      "text/plain": [
       "<Figure size 1000x500 with 1 Axes>"
      ]
     },
     "metadata": {},
     "output_type": "display_data"
    }
   ],
   "source": [
    "# Distribution plot for Residual (difference between actual and predicted values)\n",
    "sns.distplot(residual, kde=True)"
   ]
  },
  {
   "cell_type": "markdown",
   "id": "8f86aaee",
   "metadata": {
    "papermill": {
     "duration": 0.010368,
     "end_time": "2024-03-14T14:03:10.921007",
     "exception": false,
     "start_time": "2024-03-14T14:03:10.910639",
     "status": "completed"
    },
    "tags": []
   },
   "source": [
    "# Linear Regression"
   ]
  },
  {
   "cell_type": "markdown",
   "id": "86d43527",
   "metadata": {
    "papermill": {
     "duration": 0.010613,
     "end_time": "2024-03-14T14:03:10.942566",
     "exception": false,
     "start_time": "2024-03-14T14:03:10.931953",
     "status": "completed"
    },
    "tags": []
   },
   "source": [
    "# Model Evaluation"
   ]
  },
  {
   "cell_type": "code",
   "execution_count": 18,
   "id": "e97cdf7d",
   "metadata": {
    "execution": {
     "iopub.execute_input": "2024-03-14T14:03:10.966781Z",
     "iopub.status.busy": "2024-03-14T14:03:10.965843Z",
     "iopub.status.idle": "2024-03-14T14:03:10.974358Z",
     "shell.execute_reply": "2024-03-14T14:03:10.973203Z"
    },
    "papermill": {
     "duration": 0.023365,
     "end_time": "2024-03-14T14:03:10.976601",
     "exception": false,
     "start_time": "2024-03-14T14:03:10.953236",
     "status": "completed"
    },
    "tags": []
   },
   "outputs": [
    {
     "name": "stdout",
     "output_type": "stream",
     "text": [
      "Linear Regression Model\n",
      "------------------------------------------------------------\n",
      "Mean Squared Error: 0.25194981513594994\n",
      "Root Mean Squared Error: 0.5019460281105429\n"
     ]
    }
   ],
   "source": [
    "# Score It\n",
    "from sklearn.metrics import mean_squared_error\n",
    "\n",
    "print('Linear Regression Model')\n",
    "# Results\n",
    "print('--'*30)\n",
    "# mean_squared_error(y_test, y_pred)\n",
    "mse = mean_squared_error(y_test, y_pred)\n",
    "rmse = np.sqrt(mse)\n",
    "\n",
    "# Print evaluation metrics\n",
    "print(\"Mean Squared Error:\", mse)\n",
    "print(\"Root Mean Squared Error:\", rmse)"
   ]
  },
  {
   "cell_type": "markdown",
   "id": "423fcfa0",
   "metadata": {
    "papermill": {
     "duration": 0.010418,
     "end_time": "2024-03-14T14:03:10.998111",
     "exception": false,
     "start_time": "2024-03-14T14:03:10.987693",
     "status": "completed"
    },
    "tags": []
   },
   "source": [
    "# Decision Tree"
   ]
  },
  {
   "cell_type": "code",
   "execution_count": 19,
   "id": "9056a0c6",
   "metadata": {
    "execution": {
     "iopub.execute_input": "2024-03-14T14:03:11.022212Z",
     "iopub.status.busy": "2024-03-14T14:03:11.021475Z",
     "iopub.status.idle": "2024-03-14T14:03:11.205834Z",
     "shell.execute_reply": "2024-03-14T14:03:11.204931Z"
    },
    "papermill": {
     "duration": 0.199781,
     "end_time": "2024-03-14T14:03:11.208573",
     "exception": false,
     "start_time": "2024-03-14T14:03:11.008792",
     "status": "completed"
    },
    "tags": []
   },
   "outputs": [
    {
     "name": "stdout",
     "output_type": "stream",
     "text": [
      "Decision Tree Regression :  0.58\n"
     ]
    }
   ],
   "source": [
    "from sklearn.tree import DecisionTreeRegressor\n",
    "from sklearn.ensemble import RandomForestRegressor\n",
    "\n",
    "rf_regressor = DecisionTreeRegressor()\n",
    "rf_regressor.fit(x_train,y_train)\n",
    "\n",
    "#Predicting the SalePrices using test set\n",
    "y_pred_rf = rf_regressor.predict(x_test)\n",
    "\n",
    "DTr = mean_squared_error(y_pred_rf,y_test)\n",
    "#Random Forest Regression Accuracy with test set\n",
    "print('Decision Tree Regression : ',DTr)"
   ]
  },
  {
   "cell_type": "markdown",
   "id": "9d23faca",
   "metadata": {
    "papermill": {
     "duration": 0.010836,
     "end_time": "2024-03-14T14:03:11.230528",
     "exception": false,
     "start_time": "2024-03-14T14:03:11.219692",
     "status": "completed"
    },
    "tags": []
   },
   "source": [
    "# Random Forest"
   ]
  },
  {
   "cell_type": "code",
   "execution_count": 20,
   "id": "0646c921",
   "metadata": {
    "execution": {
     "iopub.execute_input": "2024-03-14T14:03:11.255738Z",
     "iopub.status.busy": "2024-03-14T14:03:11.254876Z",
     "iopub.status.idle": "2024-03-14T14:03:11.661711Z",
     "shell.execute_reply": "2024-03-14T14:03:11.660047Z"
    },
    "papermill": {
     "duration": 0.42225,
     "end_time": "2024-03-14T14:03:11.664202",
     "exception": false,
     "start_time": "2024-03-14T14:03:11.241952",
     "status": "completed"
    },
    "tags": []
   },
   "outputs": [
    {
     "name": "stdout",
     "output_type": "stream",
     "text": [
      "Random Forest Regression :  0.27094199999999996\n"
     ]
    }
   ],
   "source": [
    "from sklearn.tree import DecisionTreeRegressor\n",
    "from sklearn.ensemble import RandomForestRegressor\n",
    "\n",
    "rf_regressor = RandomForestRegressor()\n",
    "rf_regressor.fit(x_train,y_train)\n",
    "\n",
    "#Predicting the SalePrices using test set\n",
    "y_pred_rf = rf_regressor.predict(x_test)\n",
    "RFr = mean_squared_error(y_pred_rf,y_test)\n",
    "#Random Forest Regression Accuracy with test set\n",
    "print('Random Forest Regression : ',RFr)"
   ]
  },
  {
   "cell_type": "markdown",
   "id": "cac648d7",
   "metadata": {
    "papermill": {
     "duration": 0.011241,
     "end_time": "2024-03-14T14:03:11.687390",
     "exception": false,
     "start_time": "2024-03-14T14:03:11.676149",
     "status": "completed"
    },
    "tags": []
   },
   "source": [
    "# Gradient Boosting Regression"
   ]
  },
  {
   "cell_type": "code",
   "execution_count": 21,
   "id": "ec78f9d3",
   "metadata": {
    "execution": {
     "iopub.execute_input": "2024-03-14T14:03:11.712712Z",
     "iopub.status.busy": "2024-03-14T14:03:11.712165Z",
     "iopub.status.idle": "2024-03-14T14:03:11.890743Z",
     "shell.execute_reply": "2024-03-14T14:03:11.889374Z"
    },
    "papermill": {
     "duration": 0.194252,
     "end_time": "2024-03-14T14:03:11.893473",
     "exception": false,
     "start_time": "2024-03-14T14:03:11.699221",
     "status": "completed"
    },
    "tags": []
   },
   "outputs": [
    {
     "name": "stdout",
     "output_type": "stream",
     "text": [
      "Gradient Boosting Regression :  0.2758802515799819\n"
     ]
    }
   ],
   "source": [
    "from sklearn.tree import DecisionTreeRegressor\n",
    "from sklearn.ensemble import RandomForestRegressor\n",
    "from sklearn.ensemble import GradientBoostingRegressor\n",
    "\n",
    "rf_regressor = GradientBoostingRegressor()\n",
    "rf_regressor.fit(x_train,y_train)\n",
    "\n",
    "#Predicting the SalePrices using test set\n",
    "y_pred_rf = rf_regressor.predict(x_test)\n",
    "\n",
    "#Random Forest Regression Accuracy with test set\n",
    "GBr = mean_squared_error(y_pred_rf,y_test)\n",
    "print('Gradient Boosting Regression : ',GBr)"
   ]
  },
  {
   "cell_type": "markdown",
   "id": "0c935a7c",
   "metadata": {
    "papermill": {
     "duration": 0.01094,
     "end_time": "2024-03-14T14:03:11.915788",
     "exception": false,
     "start_time": "2024-03-14T14:03:11.904848",
     "status": "completed"
    },
    "tags": []
   },
   "source": [
    "# Model Scores"
   ]
  },
  {
   "cell_type": "code",
   "execution_count": 22,
   "id": "009c3e32",
   "metadata": {
    "execution": {
     "iopub.execute_input": "2024-03-14T14:03:11.941871Z",
     "iopub.status.busy": "2024-03-14T14:03:11.940576Z",
     "iopub.status.idle": "2024-03-14T14:03:11.949545Z",
     "shell.execute_reply": "2024-03-14T14:03:11.948123Z"
    },
    "papermill": {
     "duration": 0.024395,
     "end_time": "2024-03-14T14:03:11.951971",
     "exception": false,
     "start_time": "2024-03-14T14:03:11.927576",
     "status": "completed"
    },
    "tags": []
   },
   "outputs": [
    {
     "name": "stdout",
     "output_type": "stream",
     "text": [
      "Model Rankings (lower values are better):\n",
      "1. Linear Regression: 0.25194981513594994\n",
      "2. Random Forest: 0.265916\n",
      "3. Gradient Boosting: 0.2747306963680659\n",
      "4. Descison Tree: 0.58\n"
     ]
    }
   ],
   "source": [
    "# Sample model scores (replace these with your actual model scores)\n",
    "model_scores = {\n",
    "    \"Linear Regression\": 0.25194981513594994,\n",
    "    \"Descison Tree\": 0.58,\n",
    "    \"Random Forest\":0.265916,\n",
    "    \"Gradient Boosting\": 0.2747306963680659\n",
    "}\n",
    "\n",
    "# Sort the model scores in ascending order based on their values (lower values first)\n",
    "sorted_scores = sorted(model_scores.items(), key=lambda x: x[1])\n",
    "\n",
    "# Display the ranking of the models\n",
    "print(\"Model Rankings (lower values are better):\")\n",
    "for rank, (model_name, score) in enumerate(sorted_scores, start=1):\n",
    "    print(f\"{rank}. {model_name}: {score}\")\n"
   ]
  }
 ],
 "metadata": {
  "kaggle": {
   "accelerator": "none",
   "dataSources": [
    {
     "datasetId": 4488632,
     "sourceId": 7691337,
     "sourceType": "datasetVersion"
    }
   ],
   "dockerImageVersionId": 30664,
   "isGpuEnabled": false,
   "isInternetEnabled": false,
   "language": "python",
   "sourceType": "notebook"
  },
  "kernelspec": {
   "display_name": "Python 3",
   "language": "python",
   "name": "python3"
  },
  "language_info": {
   "codemirror_mode": {
    "name": "ipython",
    "version": 3
   },
   "file_extension": ".py",
   "mimetype": "text/x-python",
   "name": "python",
   "nbconvert_exporter": "python",
   "pygments_lexer": "ipython3",
   "version": "3.10.13"
  },
  "papermill": {
   "default_parameters": {},
   "duration": 9.832431,
   "end_time": "2024-03-14T14:03:12.886852",
   "environment_variables": {},
   "exception": null,
   "input_path": "__notebook__.ipynb",
   "output_path": "__notebook__.ipynb",
   "parameters": {},
   "start_time": "2024-03-14T14:03:03.054421",
   "version": "2.5.0"
  }
 },
 "nbformat": 4,
 "nbformat_minor": 5
}
